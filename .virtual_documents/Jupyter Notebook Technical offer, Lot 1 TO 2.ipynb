


from netCDF4 import Dataset
import numpy as np








# Grids to use with the ncdump command as their are smaller and easy to read
GRID_1 = np.arange(0,5, dtype=float)
GRID_2 = np.arange(0,10, dtype=float)


# Grids to use to test and explore the NetCDF format
GRID_1 = np.arange(0,100_000, dtype=float)
GRID_2 = np.arange(0,200_000, dtype=float)


isinstance( GRID_1[0], np.float64 )





%%timeit
# Create the NetCDF object
rootgrp = Dataset("tensorisation.nc", "w", format="NETCDF4", persist=True)

# Define the dimensions
itime = rootgrp.createDimension("itime", 2) 
size1 = rootgrp.createDimension("psi_dim", 0) # 0 mean unlimited size, this is needed as the two grids have multiple size

# Create the variable
grid = rootgrp.createVariable("psi", "f4", ( "itime", "psi_dim")) 

# Set data
grid[0] = GRID_1 # Padding automaticaly added 
grid[1] = GRID_2

rootgrp.close()


!du -h tensorisation.nc


%%timeit
# Create the NetCDF object
rootgrp = Dataset("tensorisation_compression.nc", "w", format="NETCDF4", persist=True, compression='zlib', complevel=9)

# Define the dimensions
itime = rootgrp.createDimension("itime", 2) 
size1 = rootgrp.createDimension("psi_dim", 0) # 0 mean unlimited size, this is needed as the two grids have multiple size

# Create the variable
grid = rootgrp.createVariable("psi", "f4", ( "itime", "psi_dim")) 

# Set data
grid[0] = GRID_1 # Padding automaticaly added 
grid[1] = GRID_2

rootgrp.close()


!du -h tensorisation_compression.nc





%%timeit
rootgrp = Dataset("variabilisation.nc", "w", format="NETCDF4", persist=True)

# Define the dimensions
itime = rootgrp.createDimension("itime", 2) 
size1 = rootgrp.createDimension("psi_1_dim", len(GRID_1)) 
size2 = rootgrp.createDimension("psi_2_dim", len(GRID_2))

# Create variables
grid1 = rootgrp.createVariable("time_slice_1__profiles_1d__psi", "f4", ( "itime", "psi_1_dim"))  
grid2 = rootgrp.createVariable("time_slice_2__profiles_1d__psi", "f4", ( "itime", "psi_2_dim"))  

# Set data
grid1[:] = GRID_1 # No padding
grid2[:] = GRID_2

rootgrp.close()


!du -h variabilisation.nc


%%timeit
rootgrp = Dataset("variabilisation_compression.nc", "w", format="NETCDF4", persist=True, compression='zlib', complevel=9)

# Define the dimensions
itime = rootgrp.createDimension("itime", 2) 
size1 = rootgrp.createDimension("psi_1_dim", len(GRID_1)) 
size2 = rootgrp.createDimension("psi_2_dim", len(GRID_2))

# Create variables
grid1 = rootgrp.createVariable("time_slice_1__profiles_1d__psi", "f4", ( "itime", "psi_1_dim"))  
grid2 = rootgrp.createVariable("time_slice_2__profiles_1d__psi", "f4", ( "itime", "psi_2_dim"))  

# Set data
grid1[:] = GRID_1 # No padding
grid2[:] = GRID_2

rootgrp.close()


!du -h variabilisation_compression.nc





%%timeit
rootgrp = Dataset("compression.nc", "w", format="NETCDF4", persist=True)

variable = rootgrp.createDimension("variable", len(GRID_1) + len(GRID_2))
index_var = rootgrp.createDimension("index_var", 2)

grid_val = rootgrp.createVariable("psi_value", "f4", ("variable")) 
index_var = rootgrp.createVariable("psi_index", "f4", ("index_var")) 

grid_val[:] = np.hstack([GRID_1, GRID_2])
index_var[:] = np.array([len(GRID_1), len(GRID_1)+len(GRID_2)])

rootgrp.close()


!du -h compression.nc


%%timeit
rootgrp = Dataset("compression_compression.nc", "w", format="NETCDF4", persist=True, compression='zlib', complevel=9)

variable = rootgrp.createDimension("variable", len(GRID_1) + len(GRID_2))
index_var = rootgrp.createDimension("index_var", 2)

grid_val = rootgrp.createVariable("psi_value", "f4", ("variable")) 
index_var = rootgrp.createVariable("psi_index", "f4", ("index_var")) 

grid_val[:] = np.hstack([GRID_1, GRID_2])
index_var[:] = np.array([len(GRID_1), len(GRID_1)+len(GRID_2)])

rootgrp.close()


!du -h compression_compression.nc





print(f"For grid size 1 : {len(GRID_1)} and grid size 2 : {len(GRID_2)}")
!du -h tensorisation.nc variabilisation.nc compression.nc tensorisation_compression.nc variabilisation_compression.nc compression_compression.nc





import xarray as xr





ds_disk = xr.load_dataset("tensorisation.nc")
ds_disk 


# Accesing tensorised data

ds_disk = xr.open_dataset("tensorisation.nc") 
ds_disk.psi[0].as_numpy() # Padding values can be seen there, I haven't hound how to remove them.


%%timeit
# Reading test on the tensorisation data
ds_disk = xr.open_dataset("tensorisation.nc")
assert((ds_disk.psi[1].as_numpy() == GRID_2).all())


%%timeit
# Reading test on the variabilisation data
ds_disk = xr.open_dataset("variabilisation.nc") 
assert((ds_disk.time_slice_1__profiles_1d__psi.as_numpy() == GRID_1).all())
assert((ds_disk.time_slice_2__profiles_1d__psi.as_numpy() == GRID_2).all())


%%timeit
# Reading test
ds_disk = xr.open_dataset("compresion.nc") 

assert((ds_disk.psi_value[: int(ds_disk.psi_index[0])]== GRID_1).all())
assert((ds_disk.psi_value[int(ds_disk.psi_index[0]) : int(ds_disk.psi_index[1])] == GRID_2).all())





ds_disk = xr.open_dataset("variabilisation.nc") 
ds_disk.time_slice_1__profiles_1d__psi[:] = np.array(GRID_1[::-1]) 
ds_disk.time_slice_2__profiles_1d__psi[:] = np.array(GRID_2[::-1])

# Add a new variable
ds_disk["time_slice_3__profiles_1d__psi"] =  np.arange(0,10)

# Modify an existing variable
ds_disk["time_slice_2__profiles_1d__psi"] =  xr.DataArray(np.arange(0,100_000), dims=["size1"])

ds_disk.to_netcdf("variabilisation2.nc", group="time_slice")
